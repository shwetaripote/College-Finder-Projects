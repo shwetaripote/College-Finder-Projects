{
 "cells": [
  {
   "cell_type": "code",
   "execution_count": 2,
   "id": "707728e1",
   "metadata": {},
   "outputs": [],
   "source": [
    "from tkinter import *"
   ]
  },
  {
   "cell_type": "code",
   "execution_count": 3,
   "id": "e47723d7",
   "metadata": {},
   "outputs": [],
   "source": [
    "from tkinter import messagebox"
   ]
  },
  {
   "cell_type": "code",
   "execution_count": 4,
   "id": "05248e19",
   "metadata": {},
   "outputs": [],
   "source": [
    "import requests"
   ]
  },
  {
   "cell_type": "code",
   "execution_count": 11,
   "id": "c262301f",
   "metadata": {},
   "outputs": [],
   "source": [
    "from CF_WeatherApp import WeatherApp"
   ]
  },
  {
   "cell_type": "code",
   "execution_count": 12,
   "id": "a92fd92a",
   "metadata": {},
   "outputs": [],
   "source": [
    "def get_weather():\n",
    "    start = WeatherApp.startWeather()\n",
    "    return start"
   ]
  },
  {
   "cell_type": "code",
   "execution_count": 13,
   "id": "41b9de7a",
   "metadata": {},
   "outputs": [],
   "source": [
    "type = 'general'"
   ]
  },
  {
   "cell_type": "code",
   "execution_count": 31,
   "id": "47eca88d",
   "metadata": {},
   "outputs": [
    {
     "ename": "TclError",
     "evalue": "can't use \"pyimage1\" as iconphoto: not a photo image",
     "output_type": "error",
     "traceback": [
      "\u001b[1;31m---------------------------------------------------------------------------\u001b[0m",
      "\u001b[1;31mTclError\u001b[0m                                  Traceback (most recent call last)",
      "\u001b[1;32m~\\AppData\\Local\\Temp/ipykernel_6084/3944797154.py\u001b[0m in \u001b[0;36m<module>\u001b[1;34m\u001b[0m\n\u001b[0;32m     62\u001b[0m \u001b[1;33m\u001b[0m\u001b[0m\n\u001b[0;32m     63\u001b[0m \u001b[0mpic\u001b[0m \u001b[1;33m=\u001b[0m \u001b[0mPhotoImage\u001b[0m\u001b[1;33m(\u001b[0m\u001b[0mfile\u001b[0m\u001b[1;33m=\u001b[0m\u001b[1;34m'newsIcon.png'\u001b[0m\u001b[1;33m)\u001b[0m\u001b[1;33m\u001b[0m\u001b[1;33m\u001b[0m\u001b[0m\n\u001b[1;32m---> 64\u001b[1;33m \u001b[0mapp\u001b[0m\u001b[1;33m.\u001b[0m\u001b[0miconphoto\u001b[0m\u001b[1;33m(\u001b[0m\u001b[1;32mFalse\u001b[0m\u001b[1;33m,\u001b[0m\u001b[0mpic\u001b[0m\u001b[1;33m)\u001b[0m\u001b[1;33m\u001b[0m\u001b[1;33m\u001b[0m\u001b[0m\n\u001b[0m\u001b[0;32m     65\u001b[0m \u001b[1;33m\u001b[0m\u001b[0m\n\u001b[0;32m     66\u001b[0m \u001b[0mapp\u001b[0m\u001b[1;33m.\u001b[0m\u001b[0mmainloop\u001b[0m\u001b[1;33m(\u001b[0m\u001b[1;33m)\u001b[0m\u001b[1;33m\u001b[0m\u001b[1;33m\u001b[0m\u001b[0m\n",
      "\u001b[1;32m~\\anaconda3\\lib\\tkinter\\__init__.py\u001b[0m in \u001b[0;36mwm_iconphoto\u001b[1;34m(self, default, *args)\u001b[0m\n\u001b[0;32m   2125\u001b[0m             \u001b[0mself\u001b[0m\u001b[1;33m.\u001b[0m\u001b[0mtk\u001b[0m\u001b[1;33m.\u001b[0m\u001b[0mcall\u001b[0m\u001b[1;33m(\u001b[0m\u001b[1;34m'wm'\u001b[0m\u001b[1;33m,\u001b[0m \u001b[1;34m'iconphoto'\u001b[0m\u001b[1;33m,\u001b[0m \u001b[0mself\u001b[0m\u001b[1;33m.\u001b[0m\u001b[0m_w\u001b[0m\u001b[1;33m,\u001b[0m \u001b[1;34m\"-default\"\u001b[0m\u001b[1;33m,\u001b[0m \u001b[1;33m*\u001b[0m\u001b[0margs\u001b[0m\u001b[1;33m)\u001b[0m\u001b[1;33m\u001b[0m\u001b[1;33m\u001b[0m\u001b[0m\n\u001b[0;32m   2126\u001b[0m         \u001b[1;32melse\u001b[0m\u001b[1;33m:\u001b[0m\u001b[1;33m\u001b[0m\u001b[1;33m\u001b[0m\u001b[0m\n\u001b[1;32m-> 2127\u001b[1;33m             \u001b[0mself\u001b[0m\u001b[1;33m.\u001b[0m\u001b[0mtk\u001b[0m\u001b[1;33m.\u001b[0m\u001b[0mcall\u001b[0m\u001b[1;33m(\u001b[0m\u001b[1;34m'wm'\u001b[0m\u001b[1;33m,\u001b[0m \u001b[1;34m'iconphoto'\u001b[0m\u001b[1;33m,\u001b[0m \u001b[0mself\u001b[0m\u001b[1;33m.\u001b[0m\u001b[0m_w\u001b[0m\u001b[1;33m,\u001b[0m \u001b[1;33m*\u001b[0m\u001b[0margs\u001b[0m\u001b[1;33m)\u001b[0m\u001b[1;33m\u001b[0m\u001b[1;33m\u001b[0m\u001b[0m\n\u001b[0m\u001b[0;32m   2128\u001b[0m \u001b[1;33m\u001b[0m\u001b[0m\n\u001b[0;32m   2129\u001b[0m     \u001b[0miconphoto\u001b[0m \u001b[1;33m=\u001b[0m \u001b[0mwm_iconphoto\u001b[0m\u001b[1;33m\u001b[0m\u001b[1;33m\u001b[0m\u001b[0m\n",
      "\u001b[1;31mTclError\u001b[0m: can't use \"pyimage1\" as iconphoto: not a photo image"
     ]
    }
   ],
   "source": [
    "class NewsApp:\n",
    "    def __init__(self,app):\n",
    "        self.app = app\n",
    "        self.app.title(\"NewsApp by CF\")\n",
    "        self.app.geometry(\"1470x600\")\n",
    "        #===== Variables =====#\n",
    "        self.NewsCatButton = []\n",
    "        self.newCat = [\"general\",\"entertainment\",\"business\",\"sports\",\"technology\",\"health\",\"science\"]\n",
    "        #====GUI====#\n",
    "        dark_blue = '#081D54'\n",
    "        light_blue = '#0066CC'\n",
    "        font_color = 'white'\n",
    "        self.title = Label(self.app,text='NewsApp',font=('rockwell bold',30),bg=dark_blue,fg=font_color,relief=GROOVE,pady=2,bd=12).pack(fill=X)\n",
    "        F1 = LabelFrame(self.app,text='Category',bg=dark_blue,fg='white',font=('roboto slab',20,'bold'),relief=GROOVE,bd=10)\n",
    "        F1.place(x=0,y=80,width=300,relheight=0.88)\n",
    "        \n",
    "        for i in range(len(self.newCat)):\n",
    "            b = Button(F1,text=self.newCat[i].upper(),font=('roboto slab',14,'bold'),bd=7,width=20,height=2,bg=light_blue,fg=font_color)\n",
    "            b.grid(row=i,column=0,padx=10,pady=5)\n",
    "            b.bind('<Button-1>',self.NewsArea)\n",
    "            self.NewsCatButton.append(b)\n",
    "            \n",
    "        F2 = Frame(self.app,relief=GROOVE,bd=7)\n",
    "        F2.place(x=320,y=80,relwidth=0.78,relheight=0.88)\n",
    "        newsTitle = Label(F2,text=\"News Area\",bg=light_blue,fg=font_color,bd=7,relief=GROOVE,font=('roboto slab',20,'bold')).pack(fill=X)\n",
    "        scroll_y = Scrollbar(F2,orient=VERTICAL)\n",
    "        self.textarea = Text(F2,yscrollcommand=scroll_y.set,font=('Lora bold',15),bg=dark_blue,fg=font_color)\n",
    "        scroll_y.pack(side=RIGHT,fill=Y)\n",
    "        scroll_y.config(command=self.textarea.yview)\n",
    "        self.textarea.insert(END,\"\\n\\t\\n\\t\\n\\t\\n\\t\\n\\t\\n\\t\\n\\t\\n\\t\\n\\t\\n\\t\\t\\t        PLEASE SELECT ANY CATEGORY TO SHOW HEADLINES AND \\n\\t\\t\\t PLEASE BE PATIENT, IT DEPENDS ON YOUR INTERNET CONNECTION\")\n",
    "        self.textarea.pack(fill='x')    \n",
    "        \n",
    "        self.b2 = Button(F2,text='Check-Weather'.upper(),font=('rockwell bold',14),bg='#0400C3',fg='white',width=20,bd=7,command=get_weather)\n",
    "        self.b2.place(x=0,y=625,relwidth=1,relheight=0.1)\n",
    "    \n",
    "    def NewsArea(self, event):\n",
    "        type = event.widget.cget('text').lower()\n",
    "        apiKey = '9a1cb98311fa4df3a83caac5fee440b9'\n",
    "        BASE_URL = f'http://newsapi.org/v2/top-headlines?country=in&category={type}&apiKey={apiKey}'\n",
    "        self.textarea.delete(\"1.0\", END)\n",
    "        self.textarea.insert(END, \"\\n Read the Latest News provided by NewsApp\\n\\n\")\n",
    "        self.textarea.insert(END, \"--------------------------------------------------------------------\\n\\n\")\n",
    "        try:\n",
    "            articles = (requests.get(BASE_URL).json())['articles']\n",
    "            if(articles != 0):\n",
    "                for i in range(len(articles)): \n",
    "                    self.textarea.insert(END, f\"{articles[i]['title']}\\n\")\n",
    "                    self.textarea.insert(END, f\"{articles[i]['description']}\\n\\n\")\n",
    "                    self.textarea.insert(END, f\"{articles[i]['content']}\\n\\n\")\n",
    "                    self.textarea.insert(END, f\"read more...{articles[i]['url']}\\n\")\n",
    "                    self.textarea.insert(END, \"\\n--------------------------------------------------------------------\\n\")\n",
    "                    self.textarea.insert(END, \"--------------------------------------------------------------------\\n\\n\")\n",
    "            else:\n",
    "                self.textarea.insert(END,\"Sorry no news available\")\n",
    "        except Exception as e:\n",
    "            messagebox.showerror('ERROR',\"Sorry cant connect to internet or some issues with newsapp :'(\")\n",
    "        \n",
    "\n",
    "app = Tk()\n",
    "NewsApp(app)\n",
    "app.state(\"zoomed\") # always open our app/window in full screen\n",
    "\n",
    "pic = PhotoImage(file='newsIcon.png')\n",
    "app.iconphoto(False,pic)\n",
    "\n",
    "app.mainloop()"
   ]
  },
  {
   "cell_type": "code",
   "execution_count": null,
   "id": "bcec20e2",
   "metadata": {},
   "outputs": [],
   "source": []
  },
  {
   "cell_type": "code",
   "execution_count": null,
   "id": "b4ed37fd",
   "metadata": {},
   "outputs": [],
   "source": []
  },
  {
   "cell_type": "code",
   "execution_count": null,
   "id": "fb18e0b7",
   "metadata": {},
   "outputs": [],
   "source": []
  },
  {
   "cell_type": "code",
   "execution_count": null,
   "id": "ce188ce9",
   "metadata": {},
   "outputs": [],
   "source": []
  },
  {
   "cell_type": "code",
   "execution_count": null,
   "id": "e5dea5a0",
   "metadata": {},
   "outputs": [],
   "source": []
  }
 ],
 "metadata": {
  "kernelspec": {
   "display_name": "Python 3 (ipykernel)",
   "language": "python",
   "name": "python3"
  },
  "language_info": {
   "codemirror_mode": {
    "name": "ipython",
    "version": 3
   },
   "file_extension": ".py",
   "mimetype": "text/x-python",
   "name": "python",
   "nbconvert_exporter": "python",
   "pygments_lexer": "ipython3",
   "version": "3.9.7"
  }
 },
 "nbformat": 4,
 "nbformat_minor": 5
}
