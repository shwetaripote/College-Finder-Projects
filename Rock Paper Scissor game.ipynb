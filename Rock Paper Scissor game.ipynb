{
 "cells": [
  {
   "cell_type": "markdown",
   "id": "a52e1ff0",
   "metadata": {},
   "source": [
    "# Rock, Paper and Scissor Game"
   ]
  },
  {
   "cell_type": "code",
   "execution_count": 3,
   "id": "a64c32f3",
   "metadata": {},
   "outputs": [
    {
     "name": "stdout",
     "output_type": "stream",
     "text": [
      "Lets play Rock, Paper and Scissor\n",
      "Choose between [Rock, Paper or scissor]\n",
      "paper\n",
      "Choose between [Rock, Paper or scissor]\n",
      "scissor\n",
      "Player1 choose paper and Player2 choose scissor\n",
      "Player 2 won the game\n"
     ]
    }
   ],
   "source": [
    "## user input\n",
    "print(\"Lets play Rock, Paper and Scissor\")\n",
    "player1 = str(input(\"Choose between [Rock, Paper or scissor]\\n\"))\n",
    "player2 = str(input(\"Choose between [Rock, Paper or scissor]\\n\"))\n",
    "\n",
    "##logic using conditional checks\n",
    "if (player1=='rock') and (player2=='rock'):\n",
    "    print(\"Player1 choose {option} and Player2 choose {option2}\".format(option=player1,option2=player2))\n",
    "    print(\"That's a tie\")\n",
    "elif (player1=='rock') and (player2=='paper'):\n",
    "    print(\"Player1 choose {option} and Player2 choose {option2}\".format(option=player1,option2=player2))\n",
    "    print(\"Player2 has won the game\")\n",
    "elif (player1=='rock') and (player2=='scissor'):\n",
    "    print(\"Player1 choose {option} and Player2 choose {option2}\".format(option=player1,option2=player2))\n",
    "    print(\"Player1 won the game\")\n",
    "    \n",
    "### logic for paper\n",
    "elif (player1=='paper') and (player2=='rock'):\n",
    "    print(\"Player1 choose {option} and Player2 choose {option2}\".format(option=player1,option2=player2))\n",
    "    print(\"Player1 won the game\")\n",
    "elif (player1=='paper') and (player2=='paper'):\n",
    "    print(\"Player1 choose {option} and Player2 choose {option2}\".format(option=player1,option2=player2))\n",
    "    print(\"That's a tie\")\n",
    "elif (player1=='paper') and (player2=='scissor'):\n",
    "    print(\"Player1 choose {option} and Player2 choose {option2}\".format(option=player1,option2=player2))\n",
    "    print(\"Player 2 won the game\")\n",
    "    \n",
    "## logic for scissor\n",
    "elif (player1=='scissor') and (player2=='rock'):\n",
    "    print(\"Player1 choose {option} and Player2 choose {option2}\".format(option=player1,option2=player2))\n",
    "    print(\"Player1 won the game\")\n",
    "elif (player1=='scissor') and (player2=='paper'):\n",
    "    print(\"Player1 choose {option} and Player2 choose {option2}\".format(option=player1,option2=player2))\n",
    "    print(\"Player1 won the game\")\n",
    "elif (player1=='scissor') and (player2=='scissor'):\n",
    "    print(\"Player1 choose {option} and Player2 choose {option2}\".format(option=player1,option2=player2))\n",
    "    print(\"That's a tie\")\n",
    "\n",
    "## logic for error\n",
    "else:\n",
    "    print(\"Error choose correct option\")\n"
   ]
  },
  {
   "cell_type": "code",
   "execution_count": null,
   "id": "10f0ac94",
   "metadata": {},
   "outputs": [],
   "source": []
  },
  {
   "cell_type": "code",
   "execution_count": null,
   "id": "a8767ac9",
   "metadata": {},
   "outputs": [],
   "source": []
  }
 ],
 "metadata": {
  "kernelspec": {
   "display_name": "Python 3 (ipykernel)",
   "language": "python",
   "name": "python3"
  },
  "language_info": {
   "codemirror_mode": {
    "name": "ipython",
    "version": 3
   },
   "file_extension": ".py",
   "mimetype": "text/x-python",
   "name": "python",
   "nbconvert_exporter": "python",
   "pygments_lexer": "ipython3",
   "version": "3.9.7"
  }
 },
 "nbformat": 4,
 "nbformat_minor": 5
}
