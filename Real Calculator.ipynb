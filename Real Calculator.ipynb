{
 "cells": [
  {
   "cell_type": "markdown",
   "id": "8852f601",
   "metadata": {},
   "source": [
    "# Real Calculator"
   ]
  },
  {
   "cell_type": "code",
   "execution_count": 1,
   "id": "071708a2",
   "metadata": {},
   "outputs": [
    {
     "name": "stdout",
     "output_type": "stream",
     "text": [
      "Select operation.\n",
      "1.Addition\n",
      "2.Subtraction\n",
      "3.Multiplication\n",
      "4.Division\n",
      "Enter choice(1/2/3/4): 3\n",
      "Enter first number: 3\n",
      "Enter second number: 2\n",
      "3 * 2 = 6\n"
     ]
    }
   ],
   "source": [
    "def add(a, b):\n",
    "    return a+b\n",
    "def subtract(a, b):\n",
    "    return a-b\n",
    "def multiply(a, b):\n",
    "    return a*b\n",
    "def divide(a, b):\n",
    "    return a/b\n",
    "\n",
    "print(\"Select operation.\")\n",
    "print(\"1.Addition\")\n",
    "print(\"2.Subtraction\")\n",
    "print(\"3.Multiplication\")\n",
    "print(\"4.Division\")\n",
    "\n",
    "while True:\n",
    "    choice = input(\"Enter choice(1/2/3/4): \")\n",
    "    if choice in ('1', '2', '3', '4'):\n",
    "        numb1 = int(input(\"Enter first number: \"))\n",
    "        numb2 = int(input(\"Enter second number: \"))\n",
    "        if choice == '1':\n",
    "            print(numb1, \"+\", numb2, \"=\", add(numb1, numb2))\n",
    "        elif choice == '2':\n",
    "            print(numb1, \"-\", numb2, \"=\", subtract(numb1, numb2))\n",
    "        elif choice == '3':\n",
    "            print(numb1, \"*\", numb2, \"=\", multiply(numb1, numb2))\n",
    "        elif choice == '4':\n",
    "            print(numb1, \"/\", numb2, \"=\", divide(numb1, numb2))\n",
    "            \n",
    "        break\n",
    "            \n",
    "    else:\n",
    "        print(\"Invalid Input\")\n",
    "        "
   ]
  },
  {
   "cell_type": "code",
   "execution_count": null,
   "id": "ec788c64",
   "metadata": {},
   "outputs": [],
   "source": []
  }
 ],
 "metadata": {
  "kernelspec": {
   "display_name": "Python 3 (ipykernel)",
   "language": "python",
   "name": "python3"
  },
  "language_info": {
   "codemirror_mode": {
    "name": "ipython",
    "version": 3
   },
   "file_extension": ".py",
   "mimetype": "text/x-python",
   "name": "python",
   "nbconvert_exporter": "python",
   "pygments_lexer": "ipython3",
   "version": "3.9.7"
  }
 },
 "nbformat": 4,
 "nbformat_minor": 5
}
